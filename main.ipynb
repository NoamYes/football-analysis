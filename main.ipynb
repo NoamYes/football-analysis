{
 "cells": [
  {
   "attachments": {},
   "cell_type": "markdown",
   "metadata": {},
   "source": [
    "# Football Data Analysis of Italian Serie A\n",
    "\n",
    "The data is taken from https://datahub.io/sports-data/italian-serie-a#resource-italian-serie-a_zip"
   ]
  },
  {
   "attachments": {},
   "cell_type": "markdown",
   "metadata": {},
   "source": [
    "## Imports"
   ]
  },
  {
   "cell_type": "code",
   "execution_count": null,
   "metadata": {},
   "outputs": [],
   "source": [
    "from pyspark import SparkContext,  SparkConf\n",
    "from pyspark.sql import SparkSession\n",
    "from pyspark.sql.functions import *\n",
    "\n",
    "# For the purposes of debugging\n",
    "\n",
    "%load_ext autoreload\n",
    "%autoreload 2"
   ]
  },
  {
   "attachments": {},
   "cell_type": "markdown",
   "metadata": {},
   "source": [
    "## Load Data\n",
    "\n",
    "We shall load only the data for the 2018-2019 season, as the data for the other seasons is not complete and is too big to work with.\n",
    "For the purposes of this notebook, it will suffice."
   ]
  },
  {
   "cell_type": "code",
   "execution_count": null,
   "metadata": {},
   "outputs": [],
   "source": [
    "# Create Spark Context\n",
    "\n",
    "conf = SparkConf().setAppName(\"Spark\").setMaster(\"local[*]\")\n",
    "# Create context if it doesn't exist\n",
    "try:\n",
    "    sc = SparkContext(conf=conf)\n",
    "except:\n",
    "    pass\n",
    "\n",
    "# Create Spark Session\n",
    "\n",
    "spark = SparkSession.builder.appName(\"Spark\").getOrCreate()"
   ]
  },
  {
   "cell_type": "code",
   "execution_count": null,
   "metadata": {},
   "outputs": [],
   "source": [
    "# Load the data from the csv file \n",
    "\n",
    "original_fb_data = spark.read.csv(\"./data/season-1819.csv\", header=True, inferSchema=True)\n"
   ]
  },
  {
   "cell_type": "code",
   "execution_count": null,
   "metadata": {},
   "outputs": [],
   "source": [
    "\n",
    "# Print the schema of the dataframe\n",
    "\n",
    "original_fb_data.printSchema()"
   ]
  },
  {
   "attachments": {},
   "cell_type": "markdown",
   "metadata": {},
   "source": [
    "### Exercise 2 \n",
    "\n",
    "Eliminate the columns that are not needed for the analysis - ['Div', 'Bb1X2', 'BbMxH', 'BbAvH', 'BbMxD', 'BbAvD', 'BbMxA', 'BbAvA', 'BbOU', 'BbMx>2.5', 'BbAv>2.5', 'BbMx<2.5', 'BbAv<2.5', 'BbAH', 'BbAHh', 'BbMxAHH', 'BbAvAHH', 'BbMxAHA', 'BbAvAHA', 'PSCH', 'PSCD', 'PSCA']"
   ]
  },
  {
   "cell_type": "code",
   "execution_count": null,
   "metadata": {},
   "outputs": [],
   "source": [
    "# Eliminate the columns that are not needed\n",
    "\n",
    "columns_to_drop = ['Div', 'Bb1X2', 'BbMxH', 'BbAvH', 'BbMxD', 'BbAvD', 'BbMxA', 'BbAvA', 'BbOU', 'BbMx>2.5', 'BbAv>2.5', 'BbMx<2.5', 'BbAv<2.5', 'BbAH', 'BbAHh', 'BbMxAHH', 'BbAvAHH', 'BbMxAHA', 'BbAvAHA', 'PSCH', 'PSCD', 'PSCA']\n",
    "fb_data = original_fb_data.drop(*columns_to_drop)\n",
    "\n",
    "# Print the schema of the dataframe\n",
    "\n",
    "# fb_data.printSchema()\n"
   ]
  },
  {
   "attachments": {},
   "cell_type": "markdown",
   "metadata": {},
   "source": [
    "### Exercise 3\n",
    "\n",
    "Create a columns.txt file that contains a map of the columns to their new names. Use this file to rename the columns.\n"
   ]
  },
  {
   "cell_type": "code",
   "execution_count": null,
   "metadata": {},
   "outputs": [],
   "source": [
    "# Create columns.txt file - columns FTHG, FTAG, FTR, HTHG, HTAG, HTR, HS, AS, HST, AST, HF, AF, HC, AC, HY, AY, HR, AR  \n",
    "\n",
    "columns_to_rename = ['FTHG', 'FTAG', 'FTR', 'HTHG', 'HTAG', 'HTR', 'HS', 'AS', 'HST', 'AST', 'HF', 'AF', 'HC', 'AC', 'HY', 'AY', 'HR', 'AR']\n",
    "\n",
    "# Create a dictionary to the new names \n",
    "\n",
    "new_names = {'FTHG':'final_time_home_goals', 'FTAG':'final_time_away_goals', 'FTR':'final_time_result', 'HTHG':'half_time_home_goals', \n",
    "             'HTAG':'half_time_away_goals', 'HTR':'half_time_result', 'HS':'home_shots', 'AS':'away_shots', 'HST':'home_shots_on_target',\n",
    "               'AST':'away_shots_on_target', 'HF':'home_fouls', 'AF':'away_fouls', 'HC':'home_corners', 'AC':'away_corners', 'HY':'home_yellow_cards', \n",
    "               'AY':'away_yellow_cards', 'HR':'home_red_cards', 'AR':'away_red_cards'}\n",
    "\n",
    "# Save that dictionary to a file\n",
    "\n",
    "from utils import create_columns\n",
    "\n",
    "create_columns(new_names, \"./data\")\n",
    "\n",
    "\n",
    "\n",
    "\n",
    "\n",
    "\n",
    "\n"
   ]
  },
  {
   "cell_type": "code",
   "execution_count": null,
   "metadata": {},
   "outputs": [],
   "source": [
    "# Load map from columns.txt file\n",
    "\n",
    "column_map = {}\n",
    "\n",
    "with open(\"./data/columns.txt\", \"r\") as f:\n",
    "    for line in f.readlines():\n",
    "        line = line.strip()\n",
    "        key, value = line.split(\"->\")\n",
    "        column_map[key.strip()] = value.strip()\n",
    "\n",
    "# Rename some of the columns from the dictionary and keep the rest\n",
    "\n",
    "fb_data_renamed = fb_data.select([col(c).alias(column_map.get(c, c)) for c in fb_data.columns])\n",
    "\n",
    "# Print the schema of the dataframe\n",
    "\n",
    "# fb_data_renamed.printSchema()"
   ]
  },
  {
   "attachments": {},
   "cell_type": "markdown",
   "metadata": {},
   "source": [
    "### Exercise 4\n",
    "\n",
    "Change final_time_result to categories home, draw, away"
   ]
  },
  {
   "cell_type": "code",
   "execution_count": null,
   "metadata": {},
   "outputs": [],
   "source": [
    "# Change the values in the final_time_result column to home, draw, away\n",
    "\n",
    "fb_data_renamed = fb_data_renamed.withColumn(\"final_time_result\", when(col(\"final_time_result\") == \"H\", \"home\")\n",
    "                                             .when(col(\"final_time_result\") == \"D\", \"draw\")\n",
    "                                             .otherwise(\"away\"))"
   ]
  },
  {
   "attachments": {},
   "cell_type": "markdown",
   "metadata": {},
   "source": [
    "### Exercise 5\n",
    "\n",
    "Find all the fames where the home team won"
   ]
  },
  {
   "cell_type": "code",
   "execution_count": null,
   "metadata": {},
   "outputs": [],
   "source": [
    "# Find in what games the home team won\n",
    "\n",
    "home_wins = fb_data_renamed.filter(col(\"final_time_result\") == \"home\")"
   ]
  },
  {
   "attachments": {},
   "cell_type": "markdown",
   "metadata": {},
   "source": [
    "### Exercise 6 \n",
    "\n",
    "Convert the date column to a \"yyyy-MM-dd\" format"
   ]
  },
  {
   "cell_type": "code",
   "execution_count": null,
   "metadata": {},
   "outputs": [],
   "source": [
    "# Convert the date column to a date type\n",
    "\n",
    "fb_data_renamed = fb_data_renamed.withColumn(\"Date\", to_date(col(\"Date\"), \"dd/MM/yyyy\"))\n",
    "\n",
    "# Show the first 5 rows of the date column\n",
    "\n",
    "# fb_data_renamed.select(\"Date\").show(5)\n"
   ]
  },
  {
   "attachments": {},
   "cell_type": "markdown",
   "metadata": {},
   "source": [
    "### Exercise 7\n",
    "\n",
    "Add precision column to all the games where group with the upper goals has lost"
   ]
  },
  {
   "cell_type": "code",
   "execution_count": null,
   "metadata": {},
   "outputs": [],
   "source": [
    "\n",
    "# Find all the games where the team with the upper shots on target has lost\n",
    "\n",
    "upper_shots_lost = fb_data_renamed.filter((col(\"home_shots_on_target\") > col(\"away_shots_on_target\")) & (col(\"final_time_result\") == \"away\") \\\n",
    "| (col(\"home_shots_on_target\") < col(\"away_shots_on_target\")) & (col(\"final_time_result\") == \"home\"))\n",
    "\n",
    "\n",
    "upper_shots_lost = upper_shots_lost.withColumn(\"home_precision\", col(\"home_shots_on_target\") / col(\"home_shots\")) \\\n",
    ".withColumn(\"away_precision\", col(\"away_shots_on_target\") / col(\"away_shots\"))\n",
    "\n",
    "# Show the first 5 rows of the teams and the precision columns\n",
    "\n",
    "upper_shots_lost.select(\"HomeTeam\", \"AwayTeam\", \"home_precision\", \"away_precision\").show(5)\n"
   ]
  },
  {
   "attachments": {},
   "cell_type": "markdown",
   "metadata": {},
   "source": [
    "### Exercise 8\n",
    "\n",
    "Find the pure winning games where the winning team has no opposite goals\n"
   ]
  },
  {
   "cell_type": "code",
   "execution_count": null,
   "metadata": {},
   "outputs": [],
   "source": [
    "# Find games where the winning team has no opposite goals\n",
    "\n",
    "pure_wins = fb_data_renamed.filter((col(\"final_time_result\") == \"home\") & (col(\"final_time_away_goals\") == 0) | (col(\"final_time_result\") == \"away\") & (col(\"final_time_home_goals\") == 0))\n",
    "\n",
    "# Show the first 5 rows of the teams and the goals columns\n",
    "\n",
    "pure_wins.select(\"HomeTeam\", \"AwayTeam\", \"final_time_home_goals\", \"final_time_away_goals\").show(5)"
   ]
  },
  {
   "attachments": {},
   "cell_type": "markdown",
   "metadata": {},
   "source": [
    "### Exercise 9\n",
    "\n",
    "Find the game with the most total goals"
   ]
  },
  {
   "cell_type": "code",
   "execution_count": null,
   "metadata": {},
   "outputs": [],
   "source": [
    "# Find the highest total goals scored in a game\n",
    "\n",
    "fb_with_total_goals = fb_data_renamed.withColumn(\"total_goals\", col(\"final_time_home_goals\") + col(\"final_time_away_goals\"))\n",
    "highest_goals = fb_with_total_goals.sort(desc(\"total_goals\"))\n",
    "\n",
    "# Get all the games where the total goals are equal to the highest total goals\n",
    "\n",
    "highest_goals = highest_goals.filter(col(\"total_goals\") == highest_goals.select(\"total_goals\").first()[0])\n",
    "\n",
    "# Show the first 5 rows of the teams and the total goals columns\n",
    "\n",
    "highest_goals.select(\"Date\", \"HomeTeam\", \"AwayTeam\", \"total_goals\").show(5)"
   ]
  },
  {
   "attachments": {},
   "cell_type": "markdown",
   "metadata": {},
   "source": [
    "### Exercise 10\n",
    "\n",
    "Add an interest rate column - a game considered interest rate high/medium/low if:\n",
    "- High if more the 5 goals conquered, or the game is between the teams [Juventus, Inter, Milan, Roma, Napoli, Lazio]\n",
    "- Medium if the number of goals conquered is between 3 and 5, or the game is between at least one of the teams [Juventus, Inter, Milan, Roma, Napoli, Lazio]\n",
    "- Low if the number of goals conquered is less than 3, and the game is not between any of the teams [Juventus, Inter, Milan, Roma, Napoli, Lazio] \n"
   ]
  },
  {
   "cell_type": "code",
   "execution_count": null,
   "metadata": {},
   "outputs": [],
   "source": [
    "# Add a column of interest rate based on\n",
    "\n",
    "# a game considered interest rate high/medium/low if:\n",
    "# - High if more the 5 goals conquered, or the game is between the teams [Juventus, Inter, Milan, Roma, Napoli, Lazio]\n",
    "# - Medium if the number of goals conquered is between 3 and 5, or the game is between at least one of the teams [Juventus, Inter, Milan, Roma, Napoli, Lazio]\n",
    "# - Low if the number of goals conquered is less than 3, and the game is not between any of the teams [Juventus, Inter, Milan, Roma, Napoli, Lazio] \n",
    "\n",
    "fb_data_renamed = fb_with_total_goals.withColumn(\"interest_rate\", when((col(\"total_goals\") > 5) | ((col(\"HomeTeam\") == \"Juventus\") | (col(\"HomeTeam\") == \"Inter\") | (col(\"HomeTeam\") == \"Milan\") | (col(\"HomeTeam\") == \"Roma\") | (col(\"HomeTeam\") == \"Napoli\") | (col(\"HomeTeam\") == \"Lazio\")) | ((col(\"AwayTeam\") == \"Juventus\") | (col(\"AwayTeam\") == \"Inter\") | (col(\"AwayTeam\") == \"Milan\") | (col(\"AwayTeam\") == \"Roma\") | (col(\"AwayTeam\") == \"Napoli\") | (col(\"AwayTeam\") == \"Lazio\")), \"high\")\n",
    "                                                .when(((col(\"total_goals\") >= 3) & (col(\"total_goals\") <= 5)) | ((col(\"HomeTeam\") == \"Juventus\") | (col(\"HomeTeam\") == \"Inter\") | (col(\"HomeTeam\") == \"Milan\") | (col(\"HomeTeam\") == \"Roma\") | (col(\"HomeTeam\") == \"Napoli\") | (col(\"HomeTeam\") == \"Lazio\")) | ((col(\"AwayTeam\") == \"Juventus\") | (col(\"AwayTeam\") == \"Inter\") | (col(\"AwayTeam\") == \"Milan\") | (col(\"AwayTeam\") == \"Roma\") | (col(\"AwayTeam\") == \"Napoli\") | (col(\"AwayTeam\") == \"Lazio\")), \"medium\")              \n",
    "                                                .otherwise(\"low\"))"
   ]
  },
  {
   "attachments": {},
   "cell_type": "markdown",
   "metadata": {},
   "source": [
    "### Exercise 11\n",
    "\n",
    "Out of the defined interesting teams, find the team that has lost the most interesting games"
   ]
  },
  {
   "cell_type": "code",
   "execution_count": null,
   "metadata": {},
   "outputs": [],
   "source": [
    "# Out of the defined interesting teams, find the team that has lost the most interesting games\n",
    "\n",
    "interesting_teams = [\"Juventus\", \"Inter\", \"Milan\", \"Roma\", \"Napoli\", \"Lazio\"]\n",
    "\n",
    "# Find the games where the interesting teams have lost - either in home or away\n",
    "\n",
    "interesting_teams_lost = fb_data_renamed.filter((col(\"final_time_result\") == \"away\") & (col(\"AwayTeam\").isin(interesting_teams)) | (col(\"final_time_result\") == \"home\") & (col(\"HomeTeam\").isin(interesting_teams)))\n",
    "\n",
    "# Find the team that has lost the most interesting games\n",
    "\n",
    "interesting_teams_lost.groupBy(\"HomeTeam\").count().sort(desc(\"count\")).show(1)\n",
    "\n",
    "\n"
   ]
  },
  {
   "attachments": {},
   "cell_type": "markdown",
   "metadata": {},
   "source": [
    "### Exercise 12\n",
    "\n",
    "Find the most aggressive team - the team that got the most yellow/red cards\n",
    "Weight the red card as 2 yellow cards\n"
   ]
  },
  {
   "cell_type": "code",
   "execution_count": null,
   "metadata": {},
   "outputs": [],
   "source": [
    "# Transform the home/away teams to a dataframe grouping teams containing for each team the sum of all the quantities\n",
    "\n",
    "def remove_sum_home_away(col_name):\n",
    "    return col_name.replace(\"sum(\", \"\").replace(\")\", \"\").replace(\"home_\", \"\").replace(\"away_\", \"\")\n",
    "\n",
    "# Columns with home or away in the name\n",
    "\n",
    "quantities_team_columns = [col(column).alias(remove_sum_home_away(column)) for column in fb_data_renamed.columns if \"home\" in column or \"away\" in column]\n",
    "\n",
    "# Create a dataframe with the home teams\n",
    "\n",
    "home_teams = fb_data_renamed.select(col(\"HomeTeam\").alias(\"Team\"), \"final_time_home_goals\", \"final_time_away_goals\", \"home_shots\", \"home_shots_on_target\", \"home_fouls\", \"home_corners\", \\\n",
    " \"home_yellow_cards\", \"home_red_cards\").groupby(\"Team\").sum()\n",
    "\n",
    "# Columns with home or away in the name\n",
    "\n",
    "quantities_team_columns = [col(column).alias(remove_sum_home_away(column)) for column in home_teams.columns if \"home\" in column]\n",
    "\n",
    "home_teams = home_teams.select(\"Team\", *quantities_team_columns)\n",
    "\n",
    "# Create a dataframe with the away teams\n",
    "\n",
    "away_teams = fb_data_renamed.select(col(\"AwayTeam\").alias(\"Team\"), \"final_time_home_goals\", \"final_time_away_goals\", \"away_shots\", \"away_shots_on_target\", \"away_fouls\", \"away_corners\", \\\n",
    "    \"away_yellow_cards\", \"away_red_cards\").groupby(\"Team\").sum()\n",
    "\n",
    "# Columns with home or away in the name\n",
    "\n",
    "quantities_team_columns = [col(column).alias(remove_sum_home_away(column)) for column in away_teams.columns if \"away\" in column]\n",
    "\n",
    "away_teams = away_teams.select(\"Team\", *quantities_team_columns)\n",
    "\n",
    "# Join the home and away teams and sum the columns\n",
    "# TODO: need to join and sum up the values\n",
    "\n",
    "\n",
    "teams = home_teams.join(away_teams, \"Team\").select(\"Team\", *[sum(column).alias(column) for column in quantities_team_columns])\n",
    "\n",
    "# Show the first 5 rows of the teams dataframe\n",
    "\n",
    "teams.show(5)\n",
    "\n",
    "\n",
    "\n",
    "\n",
    "\n"
   ]
  },
  {
   "attachments": {},
   "cell_type": "markdown",
   "metadata": {},
   "source": [
    "### Exercise 13 \n",
    "\n",
    "We have the columns of the agencies that give the odds for the games. We want to find the agency that has the best odds for the home team winning.\n"
   ]
  },
  {
   "cell_type": "code",
   "execution_count": null,
   "metadata": {},
   "outputs": [],
   "source": [
    "# Agency columns start with the agency name and end with the result of the game - home/away/draw\n",
    "# e.g, The agency \"B365\" has the columns \"B365H\", \"B365D\", \"B365A\" - home win, draw, away win\n",
    "\n",
    "# For each game, find the agency that has the highest odds for the home team to win\n",
    "\n",
    "# Extract agencies names\n",
    "\n",
    "agencies = [column.split(\"_\")[0] for column in fb_data_renamed.columns if column.endswith(\"H\")]\n",
    "\n",
    "# Create a dataframe with the odds for the home team to win\n",
    "\n",
    "home_wins_odds = fb_data_renamed.select(\"HomeTeam\", \"B365H\", \"BWH\", \"IWH\", \"LBH\", \"PSH\", \"WHH\", \"SJH\", \"VCH\", \"GBH\", \"BSH\").withColumnRenamed(\"HomeTeam\", \"Team\").withColumnRenamed(\"B365H\", \"B365\").withColumnRenamed(\"BWH\", \"BW\").withColumnRenamed(\"IWH\", \"IW\").withColumnRenamed(\"LBH\", \"LB\").withColumnRenamed(\"PSH\", \"PS\").withColumnRenamed(\"WHH\", \"WH\").withColumnRenamed(\"SJH\", \"SJ\").withColumnRenamed(\"VCH\", \"VC\").withColumnRenamed(\"GBH\", \"GB\").withColumnRenamed(\"BSH\", \"BS\")\n",
    "\n",
    "# Find the agency that has the highest odds for the home team to win\n",
    "\n",
    "home_wins_odds = home_wins_odds.withColumn(\"max_home_win_odds\", greatest(*[column for column in home_wins_odds.columns if column != \"Team\"]))\n",
    "\n",
    "# Find the agency that has the achieve the highest odds\n",
    "conditions = [when(col(\"max_home_win_odds\") == col(agency + \"H\")) for agency in agencies]\n",
    "home_wins_odds = home_wins_odds.withColumn(\"agency_with_max_home_win_odds\", *conditions)\n",
    "\n",
    "# Show the first 5 rows of the home_wins_odds dataframe\n",
    "\n",
    "home_wins_odds.show(5)\n",
    "\n",
    "\n",
    "\n"
   ]
  },
  {
   "cell_type": "code",
   "execution_count": null,
   "metadata": {},
   "outputs": [],
   "source": [
    "\n",
    "\n",
    "\n"
   ]
  }
 ],
 "metadata": {
  "kernelspec": {
   "display_name": "pyspark",
   "language": "python",
   "name": "python3"
  },
  "language_info": {
   "codemirror_mode": {
    "name": "ipython",
    "version": 3
   },
   "file_extension": ".py",
   "mimetype": "text/x-python",
   "name": "python",
   "nbconvert_exporter": "python",
   "pygments_lexer": "ipython3",
   "version": "3.11.4"
  },
  "orig_nbformat": 4
 },
 "nbformat": 4,
 "nbformat_minor": 2
}
