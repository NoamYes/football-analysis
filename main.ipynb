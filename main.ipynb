{
 "cells": [
  {
   "attachments": {},
   "cell_type": "markdown",
   "metadata": {},
   "source": [
    "# Football Data Analysis of Italian Serie A\n",
    "\n",
    "The data is taken from https://datahub.io/sports-data/italian-serie-a#resource-italian-serie-a_zip"
   ]
  },
  {
   "attachments": {},
   "cell_type": "markdown",
   "metadata": {},
   "source": [
    "## Imports"
   ]
  },
  {
   "cell_type": "code",
   "execution_count": 79,
   "metadata": {},
   "outputs": [
    {
     "name": "stdout",
     "output_type": "stream",
     "text": [
      "The autoreload extension is already loaded. To reload it, use:\n",
      "  %reload_ext autoreload\n"
     ]
    }
   ],
   "source": [
    "from pyspark import SparkContext,  SparkConf\n",
    "from pyspark.sql import SparkSession\n",
    "from pyspark.sql.functions import *\n",
    "\n",
    "# For the purposes of debugging\n",
    "\n",
    "%load_ext autoreload\n",
    "%autoreload 2"
   ]
  },
  {
   "attachments": {},
   "cell_type": "markdown",
   "metadata": {},
   "source": [
    "## Load Data\n",
    "\n",
    "We shall load only the data for the 2018-2019 season, as the data for the other seasons is not complete and is too big to work with.\n",
    "For the purposes of this notebook, it will suffice."
   ]
  },
  {
   "cell_type": "code",
   "execution_count": 80,
   "metadata": {},
   "outputs": [],
   "source": [
    "# Create Spark Context\n",
    "\n",
    "conf = SparkConf().setAppName(\"Spark\").setMaster(\"local[*]\")\n",
    "# Create context if it doesn't exist\n",
    "try:\n",
    "    sc = SparkContext(conf=conf)\n",
    "except:\n",
    "    pass\n",
    "\n",
    "# Create Spark Session\n",
    "\n",
    "spark = SparkSession.builder.appName(\"Spark\").getOrCreate()"
   ]
  },
  {
   "cell_type": "code",
   "execution_count": 81,
   "metadata": {},
   "outputs": [],
   "source": [
    "# Load the data from the csv file \n",
    "\n",
    "original_fb_data = spark.read.csv(\"./data/season-1819.csv\", header=True, inferSchema=True)\n"
   ]
  },
  {
   "cell_type": "code",
   "execution_count": 82,
   "metadata": {},
   "outputs": [
    {
     "name": "stdout",
     "output_type": "stream",
     "text": [
      "root\n",
      " |-- Div: string (nullable = true)\n",
      " |-- Date: string (nullable = true)\n",
      " |-- HomeTeam: string (nullable = true)\n",
      " |-- AwayTeam: string (nullable = true)\n",
      " |-- FTHG: integer (nullable = true)\n",
      " |-- FTAG: integer (nullable = true)\n",
      " |-- FTR: string (nullable = true)\n",
      " |-- HTHG: integer (nullable = true)\n",
      " |-- HTAG: integer (nullable = true)\n",
      " |-- HTR: string (nullable = true)\n",
      " |-- HS: integer (nullable = true)\n",
      " |-- AS: integer (nullable = true)\n",
      " |-- HST: integer (nullable = true)\n",
      " |-- AST: integer (nullable = true)\n",
      " |-- HF: integer (nullable = true)\n",
      " |-- AF: integer (nullable = true)\n",
      " |-- HC: integer (nullable = true)\n",
      " |-- AC: integer (nullable = true)\n",
      " |-- HY: integer (nullable = true)\n",
      " |-- AY: integer (nullable = true)\n",
      " |-- HR: integer (nullable = true)\n",
      " |-- AR: integer (nullable = true)\n",
      " |-- B365H: double (nullable = true)\n",
      " |-- B365D: double (nullable = true)\n",
      " |-- B365A: double (nullable = true)\n",
      " |-- BWH: double (nullable = true)\n",
      " |-- BWD: double (nullable = true)\n",
      " |-- BWA: double (nullable = true)\n",
      " |-- IWH: double (nullable = true)\n",
      " |-- IWD: double (nullable = true)\n",
      " |-- IWA: double (nullable = true)\n",
      " |-- PSH: double (nullable = true)\n",
      " |-- PSD: double (nullable = true)\n",
      " |-- PSA: double (nullable = true)\n",
      " |-- WHH: double (nullable = true)\n",
      " |-- WHD: double (nullable = true)\n",
      " |-- WHA: double (nullable = true)\n",
      " |-- VCH: double (nullable = true)\n",
      " |-- VCD: double (nullable = true)\n",
      " |-- VCA: double (nullable = true)\n",
      " |-- Bb1X2: integer (nullable = true)\n",
      " |-- BbMxH: double (nullable = true)\n",
      " |-- BbAvH: double (nullable = true)\n",
      " |-- BbMxD: double (nullable = true)\n",
      " |-- BbAvD: double (nullable = true)\n",
      " |-- BbMxA: double (nullable = true)\n",
      " |-- BbAvA: double (nullable = true)\n",
      " |-- BbOU: integer (nullable = true)\n",
      " |-- BbMx>2.5: double (nullable = true)\n",
      " |-- BbAv>2.5: double (nullable = true)\n",
      " |-- BbMx<2.5: double (nullable = true)\n",
      " |-- BbAv<2.5: double (nullable = true)\n",
      " |-- BbAH: integer (nullable = true)\n",
      " |-- BbAHh: double (nullable = true)\n",
      " |-- BbMxAHH: double (nullable = true)\n",
      " |-- BbAvAHH: double (nullable = true)\n",
      " |-- BbMxAHA: double (nullable = true)\n",
      " |-- BbAvAHA: double (nullable = true)\n",
      " |-- PSCH: double (nullable = true)\n",
      " |-- PSCD: double (nullable = true)\n",
      " |-- PSCA: double (nullable = true)\n",
      "\n"
     ]
    }
   ],
   "source": [
    "\n",
    "# Print the schema of the dataframe\n",
    "\n",
    "original_fb_data.printSchema()"
   ]
  },
  {
   "attachments": {},
   "cell_type": "markdown",
   "metadata": {},
   "source": [
    "### Exercise 2 \n",
    "\n",
    "Eliminate the columns that are not needed for the analysis - ['Div', 'Bb1X2', 'BbMxH', 'BbAvH', 'BbMxD', 'BbAvD', 'BbMxA', 'BbAvA', 'BbOU', 'BbMx>2.5', 'BbAv>2.5', 'BbMx<2.5', 'BbAv<2.5', 'BbAH', 'BbAHh', 'BbMxAHH', 'BbAvAHH', 'BbMxAHA', 'BbAvAHA', 'PSCH', 'PSCD', 'PSCA']"
   ]
  },
  {
   "cell_type": "code",
   "execution_count": 83,
   "metadata": {},
   "outputs": [],
   "source": [
    "# Eliminate the columns that are not needed\n",
    "\n",
    "columns_to_drop = ['Div', 'Bb1X2', 'BbMxH', 'BbAvH', 'BbMxD', 'BbAvD', 'BbMxA', 'BbAvA', 'BbOU', 'BbMx>2.5', 'BbAv>2.5', 'BbMx<2.5', 'BbAv<2.5', 'BbAH', 'BbAHh', 'BbMxAHH', 'BbAvAHH', 'BbMxAHA', 'BbAvAHA', 'PSCH', 'PSCD', 'PSCA']\n",
    "fb_data = original_fb_data.drop(*columns_to_drop)\n",
    "\n",
    "# Print the schema of the dataframe\n",
    "\n",
    "# fb_data.printSchema()\n"
   ]
  },
  {
   "attachments": {},
   "cell_type": "markdown",
   "metadata": {},
   "source": [
    "### Exercise 3\n",
    "\n",
    "Create a columns.txt file that contains a map of the columns to their new names. Use this file to rename the columns.\n"
   ]
  },
  {
   "cell_type": "code",
   "execution_count": 84,
   "metadata": {},
   "outputs": [],
   "source": [
    "# Create columns.txt file - columns FTHG, FTAG, FTR, HTHG, HTAG, HTR, HS, AS, HST, AST, HF, AF, HC, AC, HY, AY, HR, AR  \n",
    "\n",
    "columns_to_rename = ['FTHG', 'FTAG', 'FTR', 'HTHG', 'HTAG', 'HTR', 'HS', 'AS', 'HST', 'AST', 'HF', 'AF', 'HC', 'AC', 'HY', 'AY', 'HR', 'AR']\n",
    "\n",
    "# Create a dictionary to the new names \n",
    "\n",
    "new_names = {'FTHG':'final_time_home_goals', 'FTAG':'final_time_away_goals', 'FTR':'final_time_result', 'HTHG':'half_time_home_goals', \n",
    "             'HTAG':'half_time_away_goals', 'HTR':'half_time_result', 'HS':'home_shots', 'AS':'away_shots', 'HST':'home_shots_on_target',\n",
    "               'AST':'away_shots_on_target', 'HF':'home_fouls', 'AF':'away_fouls', 'HC':'home_corners', 'AC':'away_corners', 'HY':'home_yellow_cards', \n",
    "               'AY':'away_yellow_cards', 'HR':'home_red_cards', 'AR':'away_red_cards'}\n",
    "\n",
    "# Save that dictionary to a file\n",
    "\n",
    "from utils import create_columns\n",
    "\n",
    "create_columns(new_names, \"./data\")\n",
    "\n",
    "\n",
    "\n",
    "\n",
    "\n",
    "\n",
    "\n"
   ]
  },
  {
   "cell_type": "code",
   "execution_count": 85,
   "metadata": {},
   "outputs": [],
   "source": [
    "# Load map from columns.txt file\n",
    "\n",
    "column_map = {}\n",
    "\n",
    "with open(\"./data/columns.txt\", \"r\") as f:\n",
    "    for line in f.readlines():\n",
    "        line = line.strip()\n",
    "        key, value = line.split(\"->\")\n",
    "        column_map[key.strip()] = value.strip()\n",
    "\n",
    "# Rename some of the columns from the dictionary and keep the rest\n",
    "\n",
    "fb_data_renamed = fb_data.select([col(c).alias(column_map.get(c, c)) for c in fb_data.columns])\n",
    "\n",
    "# Print the schema of the dataframe\n",
    "\n",
    "# fb_data_renamed.printSchema()"
   ]
  },
  {
   "attachments": {},
   "cell_type": "markdown",
   "metadata": {},
   "source": [
    "### Exercise 4\n",
    "\n",
    "Change final_time_result to categories home, draw, away"
   ]
  },
  {
   "cell_type": "code",
   "execution_count": 86,
   "metadata": {},
   "outputs": [],
   "source": [
    "# Change the values in the final_time_result column to home, draw, away\n",
    "\n",
    "fb_data_renamed = fb_data_renamed.withColumn(\"final_time_result\", when(col(\"final_time_result\") == \"H\", \"home\")\n",
    "                                             .when(col(\"final_time_result\") == \"D\", \"draw\")\n",
    "                                             .otherwise(\"away\"))"
   ]
  },
  {
   "attachments": {},
   "cell_type": "markdown",
   "metadata": {},
   "source": [
    "### Exercise 5\n",
    "\n",
    "Find all the fames where the home team won"
   ]
  },
  {
   "cell_type": "code",
   "execution_count": 87,
   "metadata": {},
   "outputs": [],
   "source": [
    "# Find in what games the home team won\n",
    "\n",
    "home_wins = fb_data_renamed.filter(col(\"final_time_result\") == \"home\")"
   ]
  },
  {
   "attachments": {},
   "cell_type": "markdown",
   "metadata": {},
   "source": [
    "### Exercise 6 \n",
    "\n",
    "Convert the date column to a \"yyyy-MM-dd\" format"
   ]
  },
  {
   "cell_type": "code",
   "execution_count": 88,
   "metadata": {},
   "outputs": [],
   "source": [
    "# Convert the date column to a date type\n",
    "\n",
    "fb_data_renamed = fb_data_renamed.withColumn(\"Date\", to_date(col(\"Date\"), \"dd/MM/yyyy\"))\n",
    "\n",
    "# Show the first 5 rows of the date column\n",
    "\n",
    "# fb_data_renamed.select(\"Date\").show(5)\n"
   ]
  },
  {
   "attachments": {},
   "cell_type": "markdown",
   "metadata": {},
   "source": [
    "### Exercise 7\n",
    "\n",
    "Add precision column to all the games where group with the upper goals has lost"
   ]
  },
  {
   "cell_type": "code",
   "execution_count": 93,
   "metadata": {},
   "outputs": [
    {
     "name": "stdout",
     "output_type": "stream",
     "text": [
      "+---------+--------+------------------+------------------+\n",
      "| HomeTeam|AwayTeam|    home_precision|    away_precision|\n",
      "+---------+--------+------------------+------------------+\n",
      "|   Empoli|Cagliari|0.4444444444444444|0.4166666666666667|\n",
      "|    Genoa|  Empoli|               0.4|0.6666666666666666|\n",
      "| Atalanta|Cagliari|             0.625|              0.75|\n",
      "|Sampdoria|  Napoli|0.5714285714285714|               0.5|\n",
      "|    Inter|   Parma|0.4583333333333333|              0.75|\n",
      "+---------+--------+------------------+------------------+\n",
      "only showing top 5 rows\n",
      "\n"
     ]
    }
   ],
   "source": [
    "\n",
    "# Find all the games where the team with the upper shots on target has lost\n",
    "\n",
    "upper_shots_lost = fb_data_renamed.filter((col(\"home_shots_on_target\") > col(\"away_shots_on_target\")) & (col(\"final_time_result\") == \"away\") \\\n",
    "| (col(\"home_shots_on_target\") < col(\"away_shots_on_target\")) & (col(\"final_time_result\") == \"home\"))\n",
    "\n",
    "\n",
    "upper_shots_lost = upper_shots_lost.withColumn(\"home_precision\", col(\"home_shots_on_target\") / col(\"home_shots\")) \\\n",
    ".withColumn(\"away_precision\", col(\"away_shots_on_target\") / col(\"away_shots\"))\n",
    "\n",
    "# Show the first 5 rows of the teams and the precision columns\n",
    "\n",
    "upper_shots_lost.select(\"HomeTeam\", \"AwayTeam\", \"home_precision\", \"away_precision\").show(5)\n"
   ]
  },
  {
   "attachments": {},
   "cell_type": "markdown",
   "metadata": {},
   "source": [
    "### Exercise 8\n",
    "\n",
    "Find the pure winning games where the winning team has no opposite goals\n"
   ]
  },
  {
   "cell_type": "code",
   "execution_count": 95,
   "metadata": {},
   "outputs": [
    {
     "name": "stdout",
     "output_type": "stream",
     "text": [
      "+--------+---------+---------------------+---------------------+\n",
      "|HomeTeam| AwayTeam|final_time_home_goals|final_time_away_goals|\n",
      "+--------+---------+---------------------+---------------------+\n",
      "| Bologna|     Spal|                    0|                    1|\n",
      "|  Empoli| Cagliari|                    2|                    0|\n",
      "|Sassuolo|    Inter|                    1|                    0|\n",
      "|  Torino|     Roma|                    0|                    1|\n",
      "|Atalanta|Frosinone|                    4|                    0|\n",
      "+--------+---------+---------------------+---------------------+\n",
      "only showing top 5 rows\n",
      "\n"
     ]
    }
   ],
   "source": [
    "# Find games where the winning team has no opposite goals\n",
    "\n",
    "pure_wins = fb_data_renamed.filter((col(\"final_time_result\") == \"home\") & (col(\"final_time_away_goals\") == 0) | (col(\"final_time_result\") == \"away\") & (col(\"final_time_home_goals\") == 0))\n",
    "\n",
    "# Show the first 5 rows of the teams and the goals columns\n",
    "\n",
    "pure_wins.select(\"HomeTeam\", \"AwayTeam\", \"final_time_home_goals\", \"final_time_away_goals\").show(5)"
   ]
  },
  {
   "attachments": {},
   "cell_type": "markdown",
   "metadata": {},
   "source": [
    "### Exercise 9\n",
    "\n",
    "Find the game with the most total goals"
   ]
  },
  {
   "cell_type": "code",
   "execution_count": 96,
   "metadata": {},
   "outputs": [
    {
     "name": "stdout",
     "output_type": "stream",
     "text": [
      "+----------+--------+---------+-----------+\n",
      "|      Date|HomeTeam| AwayTeam|total_goals|\n",
      "+----------+--------+---------+-----------+\n",
      "|2018-09-02|Sassuolo|    Genoa|          8|\n",
      "|2018-12-29|Sassuolo| Atalanta|          8|\n",
      "|2019-03-16|Sassuolo|Sampdoria|          8|\n",
      "+----------+--------+---------+-----------+\n",
      "\n"
     ]
    }
   ],
   "source": [
    "# Find the highest total goals scored in a game\n",
    "\n",
    "highest_goals = fb_data_renamed.withColumn(\"total_goals\", col(\"final_time_home_goals\") + col(\"final_time_away_goals\")).sort(desc(\"total_goals\"))\n",
    "\n",
    "# Get all the games where the total goals are equal to the highest total goals\n",
    "\n",
    "highest_goals = highest_goals.filter(col(\"total_goals\") == highest_goals.select(\"total_goals\").first()[0])\n",
    "\n",
    "# Show the first 5 rows of the teams and the total goals columns\n",
    "\n",
    "highest_goals.select(\"Date\", \"HomeTeam\", \"AwayTeam\", \"total_goals\").show(5)"
   ]
  }
 ],
 "metadata": {
  "kernelspec": {
   "display_name": "pyspark",
   "language": "python",
   "name": "python3"
  },
  "language_info": {
   "codemirror_mode": {
    "name": "ipython",
    "version": 3
   },
   "file_extension": ".py",
   "mimetype": "text/x-python",
   "name": "python",
   "nbconvert_exporter": "python",
   "pygments_lexer": "ipython3",
   "version": "3.11.4"
  },
  "orig_nbformat": 4
 },
 "nbformat": 4,
 "nbformat_minor": 2
}
